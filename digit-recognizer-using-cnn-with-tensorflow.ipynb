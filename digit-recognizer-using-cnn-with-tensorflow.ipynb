{
 "cells": [
  {
   "cell_type": "markdown",
   "metadata": {},
   "source": [
    "# Digit Identification"
   ]
  },
  {
   "cell_type": "markdown",
   "metadata": {},
   "source": [
    "## 1. Importing Libaries"
   ]
  },
  {
   "cell_type": "code",
   "execution_count": 1,
   "metadata": {
    "_cell_guid": "b1076dfc-b9ad-4769-8c92-a6c4dae69d19",
    "_uuid": "8f2839f25d086af736a60e9eeb907d3b93b6e0e5"
   },
   "outputs": [
    {
     "name": "stderr",
     "output_type": "stream",
     "text": [
      "Using TensorFlow backend.\n"
     ]
    },
    {
     "name": "stdout",
     "output_type": "stream",
     "text": [
      "/kaggle/input/digit-recognizer/sample_submission.csv\n",
      "/kaggle/input/digit-recognizer/test.csv\n",
      "/kaggle/input/digit-recognizer/train.csv\n"
     ]
    }
   ],
   "source": [
    "# This Python 3 environment comes with many helpful analytics libraries installed\n",
    "# It is defined by the kaggle/python docker image: https://github.com/kaggle/docker-python\n",
    "# For example, here's several helpful packages to load in \n",
    "\n",
    "import numpy as np # linear algebra\n",
    "import pandas as pd # data processing, CSV file I/O (e.g. pd.read_csv)\n",
    "import matplotlib.pyplot as plt\n",
    "\n",
    "import csv\n",
    "\n",
    "from sklearn.model_selection import train_test_split\n",
    "\n",
    "from keras.utils.np_utils import to_categorical # convert to one-hot-encoding\n",
    "from keras.models import Sequential\n",
    "from keras.layers import Dense, Dropout, Flatten, Conv2D, MaxPool2D\n",
    "import tensorflow as tf\n",
    "\n",
    "# Input data files are available in the \"../input/\" directory.\n",
    "# For example, running this (by clicking run or pressing Shift+Enter) will list all files under the input directory\n",
    "\n",
    "import os\n",
    "for dirname, _, filenames in os.walk('/kaggle/input'):\n",
    "    for filename in filenames:\n",
    "        print(os.path.join(dirname, filename))\n",
    "\n",
    "# Any results you write to the current directory are saved as output."
   ]
  },
  {
   "cell_type": "markdown",
   "metadata": {},
   "source": [
    "## 2. Getting Data"
   ]
  },
  {
   "cell_type": "code",
   "execution_count": 2,
   "metadata": {
    "_cell_guid": "79c7e3d0-c299-4dcb-8224-4455121ee9b0",
    "_uuid": "d629ff2d2480ee46fbb7e2d37f6b5fab8052498a"
   },
   "outputs": [
    {
     "name": "stdout",
     "output_type": "stream",
     "text": [
      "(42000, 784) (42000, 1) (28000, 784)\n"
     ]
    }
   ],
   "source": [
    "#this lines are to import all the data needed\n",
    "file=open('/kaggle/input/digit-recognizer/train.csv')\n",
    "data=pd.read_csv(file)\n",
    "data2=pd.read_csv('/kaggle/input/digit-recognizer/test.csv')\n",
    "#data.head()\n",
    "#data2.head()\n",
    "x_train=np.array(data.iloc[:,1:].astype('float32')) \n",
    "y_train=np.array(data.iloc[:,0:1].astype('float32'))    \n",
    "x_test=np.array(data2.iloc[:,:].astype('float32'))      \n",
    "print(x_train.shape,y_train.shape,x_test.shape)"
   ]
  },
  {
   "cell_type": "markdown",
   "metadata": {},
   "source": [
    "## 3. Preparing the Data"
   ]
  },
  {
   "cell_type": "code",
   "execution_count": 3,
   "metadata": {},
   "outputs": [],
   "source": [
    "#all about getting the data ready\n",
    "\n",
    "#turning y values into one hot matrix\n",
    "y_train=to_categorical(y_train)\n",
    "\n",
    "#normalizing x data values\n",
    "x_train=x_train/255\n",
    "x_test=x_test/255\n",
    "\n",
    "#reshaping the images\n",
    "x_train=x_train.reshape(x_train.shape[0],28,28,1)\n",
    "x_test=x_test.reshape(x_test.shape[0],28,28,1)\n",
    "\n",
    "#dividing into train and validation sets\n",
    "seed=3\n",
    "x_train,x_val,y_train,y_val=train_test_split(x_train,y_train,test_size=0.2,random_state=seed)"
   ]
  },
  {
   "cell_type": "markdown",
   "metadata": {},
   "source": [
    "## 4. CNN"
   ]
  },
  {
   "cell_type": "code",
   "execution_count": 4,
   "metadata": {},
   "outputs": [
    {
     "name": "stdout",
     "output_type": "stream",
     "text": [
      "Model: \"sequential_1\"\n",
      "_________________________________________________________________\n",
      "Layer (type)                 Output Shape              Param #   \n",
      "=================================================================\n",
      "conv2d_1 (Conv2D)            (None, 28, 28, 32)        832       \n",
      "_________________________________________________________________\n",
      "max_pooling2d_1 (MaxPooling2 (None, 14, 14, 32)        0         \n",
      "_________________________________________________________________\n",
      "conv2d_2 (Conv2D)            (None, 14, 14, 64)        18496     \n",
      "_________________________________________________________________\n",
      "max_pooling2d_2 (MaxPooling2 (None, 7, 7, 64)          0         \n",
      "_________________________________________________________________\n",
      "dropout_1 (Dropout)          (None, 7, 7, 64)          0         \n",
      "_________________________________________________________________\n",
      "flatten_1 (Flatten)          (None, 3136)              0         \n",
      "_________________________________________________________________\n",
      "dense_1 (Dense)              (None, 256)               803072    \n",
      "_________________________________________________________________\n",
      "dense_2 (Dense)              (None, 10)                2570      \n",
      "=================================================================\n",
      "Total params: 824,970\n",
      "Trainable params: 824,970\n",
      "Non-trainable params: 0\n",
      "_________________________________________________________________\n"
     ]
    }
   ],
   "source": [
    "#now we set up our model\n",
    "model=Sequential()\n",
    "\n",
    "#adding 2 convolution layer of filter 32 followed by a pooloing layer and dropouts\n",
    "model.add(Conv2D(filters = 32, kernel_size = (5,5),padding = 'Same', \n",
    "                 activation ='relu', input_shape = (28,28,1)))\n",
    "model.add(MaxPool2D(pool_size=(2,2)))\n",
    "\n",
    "#adding the above layers only this time with 64 filters\n",
    "model.add(Conv2D(filters = 64, kernel_size = (3,3),padding = 'Same', \n",
    "                 activation ='relu'))\n",
    "model.add(MaxPool2D(pool_size=(2,2), strides=(2,2)))\n",
    "model.add(Dropout(0.25))\n",
    "\n",
    "\n",
    "model.add(Flatten())\n",
    "\n",
    "#creating a Dense layer with 256 units\n",
    "model.add(Dense(256, activation = \"relu\"))\n",
    "\n",
    "#another Dense layer with 10 unit i.e, 10 digits as output\n",
    "model.add(Dense(10, activation = \"softmax\"))\n",
    "\n",
    "#display the model summary\n",
    "model.summary()"
   ]
  },
  {
   "cell_type": "markdown",
   "metadata": {},
   "source": [
    "## 5. Compile and Run"
   ]
  },
  {
   "cell_type": "code",
   "execution_count": 5,
   "metadata": {},
   "outputs": [
    {
     "name": "stdout",
     "output_type": "stream",
     "text": [
      "Train on 33600 samples, validate on 8400 samples\n",
      "Epoch 1/10\n",
      "33600/33600 [==============================] - 28s 821us/step - loss: 0.2037 - accuracy: 0.9368 - val_loss: 0.0748 - val_accuracy: 0.9768\n",
      "Epoch 2/10\n",
      "33600/33600 [==============================] - 28s 819us/step - loss: 0.0584 - accuracy: 0.9825 - val_loss: 0.0570 - val_accuracy: 0.9817\n",
      "Epoch 3/10\n",
      "33600/33600 [==============================] - 27s 799us/step - loss: 0.0410 - accuracy: 0.9867 - val_loss: 0.0440 - val_accuracy: 0.9860\n",
      "Epoch 4/10\n",
      "33600/33600 [==============================] - 27s 817us/step - loss: 0.0310 - accuracy: 0.9897 - val_loss: 0.0468 - val_accuracy: 0.9845\n",
      "Epoch 5/10\n",
      "33600/33600 [==============================] - 27s 804us/step - loss: 0.0249 - accuracy: 0.9917 - val_loss: 0.0575 - val_accuracy: 0.9821\n",
      "Epoch 6/10\n",
      "33600/33600 [==============================] - 27s 814us/step - loss: 0.0217 - accuracy: 0.9932 - val_loss: 0.0476 - val_accuracy: 0.9856\n",
      "Epoch 7/10\n",
      "33600/33600 [==============================] - 27s 806us/step - loss: 0.0191 - accuracy: 0.9937 - val_loss: 0.0414 - val_accuracy: 0.9868\n",
      "Epoch 8/10\n",
      "33600/33600 [==============================] - 27s 806us/step - loss: 0.0149 - accuracy: 0.9947 - val_loss: 0.0434 - val_accuracy: 0.9881\n",
      "Epoch 9/10\n",
      "33600/33600 [==============================] - 28s 821us/step - loss: 0.0113 - accuracy: 0.9966 - val_loss: 0.0445 - val_accuracy: 0.9888\n",
      "Epoch 10/10\n",
      "33600/33600 [==============================] - 27s 799us/step - loss: 0.0104 - accuracy: 0.9964 - val_loss: 0.0506 - val_accuracy: 0.9863\n"
     ]
    }
   ],
   "source": [
    "#compiling our model\n",
    "model.compile(optimizer='adam',loss='categorical_crossentropy',metrics=[\"accuracy\"])\n",
    "\n",
    "#fitting the data\n",
    "records=model.fit(x_train,y_train,epochs=10,batch_size=64,validation_data=(x_val,y_val))"
   ]
  },
  {
   "cell_type": "markdown",
   "metadata": {},
   "source": [
    "## 6. Visualisation"
   ]
  },
  {
   "cell_type": "code",
   "execution_count": 6,
   "metadata": {},
   "outputs": [
    {
     "data": {
      "image/png": "[encoded data removed]",
      "text/plain": [
       "<Figure size 432x288 with 1 Axes>"
      ]
     },
     "metadata": {
      "needs_background": "light"
     },
     "output_type": "display_data"
    }
   ],
   "source": [
    "#here we will analyze our model with plots and results\n",
    "accu_ratings=records.history['accuracy']\n",
    "plt.plot(range(len(accu_ratings)),accu_ratings)\n",
    "plt.show()\n"
   ]
  },
  {
   "cell_type": "markdown",
   "metadata": {},
   "source": [
    "## 7. Predictions "
   ]
  },
  {
   "cell_type": "code",
   "execution_count": 7,
   "metadata": {},
   "outputs": [
    {
     "name": "stdout",
     "output_type": "stream",
     "text": [
      "[2 0 9 ... 3 9 2]\n"
     ]
    }
   ],
   "source": [
    "#finding the predictions for x_test\n",
    "pred=model.predict(x_test)\n",
    "\n",
    "#combining the one_hot matrix to numbers\n",
    "pred=np.argmax(pred,axis=1)\n",
    "print(pred)"
   ]
  },
  {
   "cell_type": "markdown",
   "metadata": {},
   "source": [
    "## 8. Results in File"
   ]
  },
  {
   "cell_type": "code",
   "execution_count": 8,
   "metadata": {},
   "outputs": [],
   "source": [
    "pred = pd.Series(pred,name=\"Label\")\n",
    "submission = pd.concat([pd.Series(range(1,28001),name = \"ImageId\"),pred],axis = 1)\n",
    "submission.to_csv(\"results.csv\",index=False)"
   ]
  }
 ],
 "metadata": {
  "kernelspec": {
   "display_name": "Python 3",
   "language": "python",
   "name": "python3"
  },
  "language_info": {
   "codemirror_mode": {
    "name": "ipython",
    "version": 3
   },
   "file_extension": ".py",
   "mimetype": "text/x-python",
   "name": "python",
   "nbconvert_exporter": "python",
   "pygments_lexer": "ipython3",
   "version": "3.6.6"
  }
 },
 "nbformat": 4,
 "nbformat_minor": 4
}
